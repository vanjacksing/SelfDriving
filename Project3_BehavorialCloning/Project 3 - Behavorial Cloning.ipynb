{
 "cells": [
  {
   "cell_type": "code",
   "execution_count": null,
   "metadata": {
    "collapsed": false
   },
   "outputs": [],
   "source": [
    "from keras.models import Sequential\n",
    "from keras.layers import Dense, Activation, Dropout, Flatten, Lambda"
   ]
  },
  {
   "cell_type": "code",
   "execution_count": null,
   "metadata": {
    "collapsed": true
   },
   "outputs": [],
   "source": [
    "from keras.layers.convolutional import Conv2D, Cropping2D"
   ]
  },
  {
   "cell_type": "code",
   "execution_count": null,
   "metadata": {
    "collapsed": false
   },
   "outputs": [],
   "source": [
    "import numpy as np\n",
    "import pandas as pd\n",
    "import cv2"
   ]
  },
  {
   "cell_type": "code",
   "execution_count": null,
   "metadata": {
    "collapsed": true
   },
   "outputs": [],
   "source": [
    "from glob import glob\n",
    "driving_logs = glob(\"driving_log*.csv\")"
   ]
  },
  {
   "cell_type": "code",
   "execution_count": null,
   "metadata": {
    "collapsed": false
   },
   "outputs": [],
   "source": [
    "logs_df = [pd.read_csv(log, header=None) for log in driving_logs]"
   ]
  },
  {
   "cell_type": "code",
   "execution_count": null,
   "metadata": {
    "collapsed": false
   },
   "outputs": [],
   "source": [
    "driving_log = pd.concat(logs_df)\n",
    "driving_log.iloc[:, 0] = driving_log.iloc[:,0].str.replace(\"\\\\\", \"/\").str.split(\"/\").str[-1]\n",
    "features = driving_log.iloc[:, [0, 3]]"
   ]
  },
  {
   "cell_type": "code",
   "execution_count": null,
   "metadata": {
    "collapsed": false
   },
   "outputs": [],
   "source": [
    "X, y = features.iloc[:, 0].values, features.iloc[:, 1].values"
   ]
  },
  {
   "cell_type": "code",
   "execution_count": null,
   "metadata": {
    "collapsed": false
   },
   "outputs": [],
   "source": [
    "from sklearn.model_selection import train_test_split"
   ]
  },
  {
   "cell_type": "code",
   "execution_count": null,
   "metadata": {
    "collapsed": true
   },
   "outputs": [],
   "source": [
    "X_train, X_test, y_train, y_test = train_test_split(\n",
    "    X, y, test_size=0.2, random_state=42)"
   ]
  },
  {
   "cell_type": "code",
   "execution_count": null,
   "metadata": {
    "collapsed": false
   },
   "outputs": [],
   "source": [
    "from sklearn.utils import shuffle\n",
    "\n",
    "def datagen(X, y, batch_size=4):\n",
    "    num_samples = X.shape[0]\n",
    "    while 1:\n",
    "        shuffle(X, y)\n",
    "        for offset in range(0, num_samples, batch_size):\n",
    "            files = X[offset:offset+batch_size]\n",
    "            angles = y[offset:offset+batch_size]\n",
    "            image_batch = []\n",
    "            angle_batch = []\n",
    "            for f, a in zip(files, angles):\n",
    "                image = cv2.imread('IMG/' + f)\n",
    "                image_batch.append(image)\n",
    "                angle_batch.append(float(a))\n",
    "            yield shuffle(np.array(image_batch), np.array(angle_batch))\n",
    "train_gen = datagen(X_train, y_train)\n",
    "valid_gen = datagen(X_test, y_test)"
   ]
  },
  {
   "cell_type": "code",
   "execution_count": null,
   "metadata": {
    "collapsed": false
   },
   "outputs": [],
   "source": [
    "model = Sequential()\n",
    "model.add(Lambda(lambda x: (x / 255.0) - 0.5, input_shape=(160,320,3)))\n",
    "model.add(Cropping2D(cropping=((60, 20), (0, 0))))\n",
    "model.add(Conv2D(24, (5,5), activation='relu'))\n",
    "model.add(Dropout(0.5))\n",
    "#model.add(Conv2D(36, (5,5), activation='relu'))\n",
    "#model.add(Conv2D(48, (5,5), activation='relu'))\n",
    "#model.add(Conv2D(64, (3,3), activation='relu'))\n",
    "#model.add(Conv2D(64, (3,3), activation='relu'))\n",
    "#model.add(Dropout(0.5))\n",
    "model.add(Flatten())\n",
    "#model.add(Dense(1164))\n",
    "#model.add(Dense(100))\n",
    "#model.add(Dense(50))\n",
    "model.add(Dense(10))\n",
    "model.add(Dense(1))\n",
    "model.compile(loss='mse', optimizer='adam')\n",
    "hist = model.fit_generator(train_gen, steps_per_epoch=X_train.shape[0]//32, verbose=1, validation_data = valid_gen, validation_steps=2, epochs=3)"
   ]
  },
  {
   "cell_type": "code",
   "execution_count": null,
   "metadata": {
    "collapsed": false
   },
   "outputs": [],
   "source": [
    "model.save('model.h5')"
   ]
  },
  {
   "cell_type": "code",
   "execution_count": null,
   "metadata": {
    "collapsed": true
   },
   "outputs": [],
   "source": [
    "train_batch = next(train_gen)"
   ]
  },
  {
   "cell_type": "code",
   "execution_count": null,
   "metadata": {
    "collapsed": false
   },
   "outputs": [],
   "source": [
    "import matplotlib.pyplot as plt\n",
    "import matplotlib.image as mpimg\n",
    "%matplotlib inline\n",
    "plt.imshow(train_batch[0][0])"
   ]
  },
  {
   "cell_type": "code",
   "execution_count": null,
   "metadata": {
    "collapsed": false
   },
   "outputs": [],
   "source": [
    "train_batch"
   ]
  },
  {
   "cell_type": "code",
   "execution_count": null,
   "metadata": {
    "collapsed": true
   },
   "outputs": [],
   "source": []
  }
 ],
 "metadata": {
  "kernelspec": {
   "display_name": "Python 3",
   "language": "python",
   "name": "python3"
  },
  "language_info": {
   "codemirror_mode": {
    "name": "ipython",
    "version": 3
   },
   "file_extension": ".py",
   "mimetype": "text/x-python",
   "name": "python",
   "nbconvert_exporter": "python",
   "pygments_lexer": "ipython3",
   "version": "3.5.3"
  }
 },
 "nbformat": 4,
 "nbformat_minor": 2
}
